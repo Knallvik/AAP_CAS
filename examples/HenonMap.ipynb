{
 "cells": [
  {
   "cell_type": "code",
   "execution_count": 1,
   "metadata": {},
   "outputs": [],
   "source": [
    "import numpy as np\n",
    "from numpy import linalg as la\n",
    "import matplotlib.pyplot as plt\n",
    "%matplotlib inline\n",
    "%config InlineBackend.figure_format = 'retina' # retina display\n",
    "from ipywidgets import interactive\n"
   ]
  },
  {
   "cell_type": "code",
   "execution_count": 2,
   "metadata": {},
   "outputs": [
    {
     "data": {
      "application/vnd.jupyter.widget-view+json": {
       "model_id": "9b2433d388e34de0ac6a6d7e518d8023",
       "version_major": 2,
       "version_minor": 0
      },
      "text/plain": [
       "interactive(children=(FloatSlider(value=0.5, description='Q', max=1.0, step=0.001), IntSlider(value=180, descr…"
      ]
     },
     "metadata": {},
     "output_type": "display_data"
    },
    {
     "data": {
      "image/png": "[encoded data removed]",
      "text/plain": [
       "<Figure size 432x432 with 1 Axes>"
      ]
     },
     "metadata": {
      "image/png": {
       "height": 367,
       "width": 380
      },
      "needs_background": "light"
     },
     "output_type": "display_data"
    }
   ],
   "source": [
    "import warnings\n",
    "warnings.filterwarnings('ignore')\n",
    "# Q is the tune\n",
    "# a and phi0 are the max amplitude and the phase of the turn=0 points\n",
    "# Nturns are the turn number\n",
    "# g is proportional to the sextupole gradient\n",
    "# the code solve the simple Hénon map\n",
    "# x[n+1] = x[n]\n",
    "# xp[n+1]= xp[n]+g*x[n]^2\n",
    "# and after I apply a pure rotation of Q\n",
    "\n",
    "Q=1/4+.001\n",
    "a=.05\n",
    "Nturns=1000\n",
    "Namplitude=20\n",
    "g=-23\n",
    "def f(Q, phi0,a,g,Nturns,Namplitude):\n",
    "    plt.figure(figsize=(6,6))\n",
    "    phi_rad=np.pi/180.*phi0\n",
    "    \n",
    "    phi=2*np.pi*Q\n",
    "\n",
    "    R=np.array([[np.cos(phi),np.sin(phi)],[-np.sin(phi),np.cos(phi)]])\n",
    "    R0=np.array([[np.cos(phi_rad),np.sin(phi_rad)],[-np.sin(phi_rad),np.cos(phi_rad)]])\n",
    "\n",
    "    for j in np.linspace(0,a,Namplitude): \n",
    "        X=[]\n",
    "        A=R0 @ np.array([[j],[0]])\n",
    "        X.append(A )\n",
    "        for i in range(Nturns):\n",
    "            X.append(R @ (X[i]+g*np.array([[0],[X[i][0]*X[i][0]]])))\n",
    "        plt.plot(np.array(X)[:,0],np.array(X)[:,1],'.', ms=1)\n",
    "\n",
    "    plt.axis('square');\n",
    "\n",
    "    plt.xlim(-a,a)\n",
    "    plt.ylim(-a,a);\n",
    "    plt.title('Q='+str(Q)+\n",
    "              ', phi0='+str(phi0)+\n",
    "              ', a='+str(a)+\n",
    "              ', g='+str(g))\n",
    "interactive_plot = interactive(f, Q=(0.0, 1.0, 0.001), phi0=(0, 360, 1), a=(0, .1, .0001),g=(-50,50,1),Nturns=(0,2000,1),Namplitude=(10,50,1),continuous_update=False)\n",
    "output = interactive_plot.children[-1]\n",
    "output.layout.height = '350px'\n",
    "interactive_plot"
   ]
  },
  {
   "cell_type": "markdown",
   "metadata": {},
   "source": [
    "# DA concept"
   ]
  },
  {
   "cell_type": "code",
   "execution_count": 3,
   "metadata": {},
   "outputs": [],
   "source": [
    "import pandas as pd\n",
    "Q=1/4+.001\n",
    "a=.05\n",
    "Nturns=1000\n",
    "Namplitude=50\n",
    "g=-23\n",
    "phi0=0\n",
    "def f(Q, phi0,a,g,Nturns,Namplitude):\n",
    "    aux=pd.DataFrame()\n",
    "    phi_rad=np.pi/180.*phi0\n",
    "    \n",
    "    phi=2*np.pi*Q\n",
    "\n",
    "    R=np.array([[np.cos(phi),np.sin(phi)],[-np.sin(phi),np.cos(phi)]])\n",
    "    R0=np.array([[np.cos(phi_rad),np.sin(phi_rad)],[-np.sin(phi_rad),np.cos(phi_rad)]])\n",
    "\n",
    "    for j in np.linspace(0,a,Namplitude): \n",
    "        X=[]\n",
    "        Amplitude=[]\n",
    "        A=R0 @ np.array([[j],[0]])\n",
    "        X.append(A)\n",
    "        Amplitude.append(np.sqrt(A[0]**2+A[1]**2)/2)\n",
    "        for i in range(Nturns):\n",
    "            X.append(R @ (X[i]+g*np.array([[0],[X[i][0]*X[i][0]]])))\n",
    "            Amplitude.append(np.sqrt(X[i+1][0]**2+X[i+1][1]**2)/2)\n",
    "        aux=pd.concat([aux,pd.DataFrame(np.array(Amplitude),columns=[j])], axis=1, sort=False)\n",
    "    return aux\n",
    "aux=f(Q, phi0,a,g,Nturns,Namplitude)\n"
   ]
  },
  {
   "cell_type": "code",
   "execution_count": 4,
   "metadata": {},
   "outputs": [
    {
     "data": {
      "application/vnd.jupyter.widget-view+json": {
       "model_id": "f5c20f3f2af84286a37eb5dba7cb1777",
       "version_major": 2,
       "version_minor": 0
      },
      "text/plain": [
       "interactive(children=(IntSlider(value=1000, description='Nturns', max=2000, min=1), Output(layout=Layout(heigh…"
      ]
     },
     "metadata": {},
     "output_type": "display_data"
    }
   ],
   "source": [
    "\n",
    "def f(Nturns):\n",
    "    plt.plot(np.linspace(0,a,Namplitude),aux[0:Nturns].max(),'o')\n",
    "    plt.ylim(0,.05)\n",
    "    plt.xlim(0,.05)\n",
    "    plt.grid()\n",
    "    \n",
    "interactive_plot = interactive(f,Nturns=(1,2000,1),continuous_update=False)\n",
    "output = interactive_plot.children[-1]\n",
    "output.layout.height = '350px'\n",
    "interactive_plot"
   ]
  },
  {
   "cell_type": "markdown",
   "metadata": {},
   "source": [
    "# Frequency locking"
   ]
  },
  {
   "cell_type": "code",
   "execution_count": 5,
   "metadata": {},
   "outputs": [],
   "source": [
    "\n",
    "Q=1/4+.001\n",
    "a=.028\n",
    "Nturns=5000\n",
    "Namplitude=200\n",
    "g=-23\n",
    "def f(Q, phi0,a,g,Nturns,Namplitude):\n",
    "    aux=pd.DataFrame()\n",
    "    phi_rad=np.pi/180.*phi0\n",
    "    \n",
    "    phi=2*np.pi*Q\n",
    "\n",
    "    R=np.array([[np.cos(phi),np.sin(phi)],[-np.sin(phi),np.cos(phi)]])\n",
    "    R0=np.array([[np.cos(phi_rad),np.sin(phi_rad)],[-np.sin(phi_rad),np.cos(phi_rad)]])\n",
    "\n",
    "    for j in np.linspace(0,a,Namplitude): \n",
    "        X=[]\n",
    "        Amplitude=[]\n",
    "        A=R0 @ np.array([[j],[0]])\n",
    "        X.append(A)\n",
    "        Amplitude.append(np.sqrt(A[0]**2+A[1]**2)/2)\n",
    "        for i in range(Nturns):\n",
    "            X.append(R @ (X[i]+g*np.array([[0],[X[i][0]*X[i][0]]])))\n",
    "            Amplitude.append(X[i+1][0])\n",
    "        aux=pd.concat([aux,pd.DataFrame(np.array(Amplitude),columns=[j])], axis=1, sort=False)\n",
    "    return aux\n",
    "aux=f(Q, phi0,a,g,Nturns,Namplitude)\n",
    "\n",
    "import PyNAFF as pnf\n",
    "\n",
    "\n",
    "myQ=[]\n",
    "for i in range(Namplitude)[1:]:\n",
    "    signal = aux[aux.columns[i]].values;\n",
    "    pnf.naff(signal, 500, 1, 0 , False, window=1)\n",
    "    # outputs an array of arrays for each frequency. Each sub-array includes:\n",
    "    # [order of harmonic, frequency, Amplitude, Re{Amplitude}, Im{Amplitude]\n",
    "\n",
    "\n",
    "    # My frequency is simply \n",
    "    myQ.append(pnf.naff(signal, 5000, 1, 0 , False)[0][1])"
   ]
  },
  {
   "cell_type": "code",
   "execution_count": 6,
   "metadata": {},
   "outputs": [
    {
     "data": {
      "application/vnd.jupyter.widget-view+json": {
       "model_id": "ee4ebad33ccd4889aeff6fc4e9a63ded",
       "version_major": 2,
       "version_minor": 0
      },
      "text/plain": [
       "interactive(children=(IntSlider(value=2505, description='Nturns', max=5000, min=10), Output(layout=Layout(heig…"
      ]
     },
     "metadata": {},
     "output_type": "display_data"
    }
   ],
   "source": [
    "def f(Nturns):\n",
    "    myQ=[]\n",
    "    for i in range(Namplitude)[1:]:\n",
    "        signal = aux[aux.columns[i]].values;\n",
    "        myQ.append(pnf.naff(signal, Nturns, 1, 0 , False)[0][1])\n",
    "    plt.plot(np.linspace(0,a,Namplitude)[1:],myQ,'.-')\n",
    "    myX=np.linspace(0,a,Namplitude)[1:]\n",
    "    plt.plot(myX,Q*np.ones_like(myX),'-.r')\n",
    "    plt.grid()\n",
    "    plt.xlim(0,0.05)\n",
    "    \n",
    "interactive_plot = interactive(f,Nturns=(10,5000,1),continuous_update=False)\n",
    "output = interactive_plot.children[-1]\n",
    "output.layout.height = '350px'\n",
    "interactive_plot\n",
    "#plt.ylim(.2499,.2501)"
   ]
  },
  {
   "cell_type": "markdown",
   "metadata": {},
   "source": [
    "# Q optimization"
   ]
  },
  {
   "cell_type": "code",
   "execution_count": 301,
   "metadata": {},
   "outputs": [
    {
     "name": "stdout",
     "output_type": "stream",
     "text": [
      "0.0\n",
      "0.010101010101010102\n",
      "0.020202020202020204\n",
      "0.030303030303030304\n",
      "0.04040404040404041\n",
      "0.05050505050505051\n",
      "0.06060606060606061\n",
      "0.07070707070707072\n",
      "0.08080808080808081\n",
      "0.09090909090909091\n",
      "0.10101010101010102\n",
      "0.11111111111111112\n",
      "0.12121212121212122\n",
      "0.13131313131313133\n",
      "0.14141414141414144\n",
      "0.15151515151515152\n",
      "0.16161616161616163\n",
      "0.17171717171717174\n",
      "0.18181818181818182\n",
      "0.19191919191919193\n",
      "0.20202020202020204\n",
      "0.21212121212121213\n",
      "0.22222222222222224\n",
      "0.23232323232323235\n",
      "0.24242424242424243\n",
      "0.25252525252525254\n",
      "0.26262626262626265\n",
      "0.27272727272727276\n",
      "0.2828282828282829\n",
      "0.29292929292929293\n",
      "0.30303030303030304\n",
      "0.31313131313131315\n",
      "0.32323232323232326\n",
      "0.33333333333333337\n",
      "0.3434343434343435\n",
      "0.3535353535353536\n",
      "0.36363636363636365\n",
      "0.37373737373737376\n",
      "0.38383838383838387\n",
      "0.393939393939394\n",
      "0.4040404040404041\n",
      "0.4141414141414142\n",
      "0.42424242424242425\n",
      "0.43434343434343436\n",
      "0.4444444444444445\n",
      "0.4545454545454546\n",
      "0.4646464646464647\n",
      "0.4747474747474748\n",
      "0.48484848484848486\n",
      "0.494949494949495\n",
      "0.5050505050505051\n",
      "0.5151515151515152\n",
      "0.5252525252525253\n",
      "0.5353535353535354\n",
      "0.5454545454545455\n",
      "0.5555555555555556\n",
      "0.5656565656565657\n",
      "0.5757575757575758\n",
      "0.5858585858585859\n",
      "0.595959595959596\n",
      "0.6060606060606061\n",
      "0.6161616161616162\n",
      "0.6262626262626263\n",
      "0.6363636363636365\n",
      "0.6464646464646465\n",
      "0.6565656565656566\n",
      "0.6666666666666667\n",
      "0.6767676767676768\n",
      "0.686868686868687\n",
      "0.696969696969697\n",
      "0.7070707070707072\n",
      "0.7171717171717172\n",
      "0.7272727272727273\n",
      "0.7373737373737375\n",
      "0.7474747474747475\n",
      "0.7575757575757577\n",
      "0.7676767676767677\n",
      "0.7777777777777778\n",
      "0.787878787878788\n",
      "0.797979797979798\n",
      "0.8080808080808082\n",
      "0.8181818181818182\n",
      "0.8282828282828284\n",
      "0.8383838383838385\n",
      "0.8484848484848485\n",
      "0.8585858585858587\n",
      "0.8686868686868687\n",
      "0.8787878787878789\n",
      "0.888888888888889\n",
      "0.8989898989898991\n",
      "0.9090909090909092\n",
      "0.9191919191919192\n",
      "0.9292929292929294\n",
      "0.9393939393939394\n",
      "0.9494949494949496\n",
      "0.9595959595959597\n",
      "0.9696969696969697\n",
      "0.9797979797979799\n",
      "0.98989898989899\n",
      "1.0\n"
     ]
    }
   ],
   "source": [
    "DA_mm_at1000=[]\n",
    "myQRange=np.linspace(0,1,100)\n",
    "for Q in myQRange:\n",
    "    print(Q)\n",
    "    a=.05\n",
    "    Nturns=1000\n",
    "    Namplitude=20\n",
    "    g=-23\n",
    "    def f(Q, phi0,a,g,Nturns,Namplitude):\n",
    "        aux=pd.DataFrame()\n",
    "        phi_rad=np.pi/180.*phi0\n",
    "\n",
    "        phi=2*np.pi*Q\n",
    "\n",
    "        R=np.array([[np.cos(phi),np.sin(phi)],[-np.sin(phi),np.cos(phi)]])\n",
    "        R0=np.array([[np.cos(phi_rad),np.sin(phi_rad)],[-np.sin(phi_rad),np.cos(phi_rad)]])\n",
    "\n",
    "        for j in np.linspace(0,a,Namplitude): \n",
    "            X=[]\n",
    "            Amplitude=[]\n",
    "            A=R0 @ np.array([[j],[0]])\n",
    "            X.append(A)\n",
    "            Amplitude.append(np.sqrt(A[0]**2+A[1]**2)/2)\n",
    "            for i in range(Nturns):\n",
    "                X.append(R @ (X[i]+g*np.array([[0],[X[i][0]*X[i][0]]])))\n",
    "                Amplitude.append(np.sqrt(X[i+1][0]**2+X[i+1][1]**2)/2)\n",
    "            aux=pd.concat([aux,pd.DataFrame(np.array(Amplitude),columns=[j])], axis=1, sort=False)\n",
    "        return aux\n",
    "    aux=f(Q, phi0,a,g,Nturns,Namplitude)\n",
    "    myMax=aux.max()\n",
    "    DA_mm_at1000.append(max(myMax[myMax<.05].index))"
   ]
  },
  {
   "cell_type": "code",
   "execution_count": 302,
   "metadata": {},
   "outputs": [
    {
     "data": {
      "text/plain": [
       "[<matplotlib.lines.Line2D at 0x7fd29a527780>]"
      ]
     },
     "execution_count": 302,
     "metadata": {},
     "output_type": "execute_result"
    },
    {
     "data": {
      "image/png": "[encoded data removed]",
      "text/plain": [
       "<Figure size 432x288 with 1 Axes>"
      ]
     },
     "metadata": {
      "image/png": {
       "height": 250,
       "width": 380
      },
      "needs_background": "light"
     },
     "output_type": "display_data"
    }
   ],
   "source": [
    "plt.plot(myQRange, DA_mm_at1000,'.-')"
   ]
  },
  {
   "cell_type": "markdown",
   "metadata": {},
   "source": [
    "# Kick distribution"
   ]
  },
  {
   "cell_type": "code",
   "execution_count": 305,
   "metadata": {},
   "outputs": [
    {
     "name": "stdout",
     "output_type": "stream",
     "text": [
      "0.0\n",
      "0.010101010101010102\n",
      "0.020202020202020204\n",
      "0.030303030303030304\n",
      "0.04040404040404041\n",
      "0.05050505050505051\n",
      "0.06060606060606061\n",
      "0.07070707070707072\n",
      "0.08080808080808081\n",
      "0.09090909090909091\n",
      "0.10101010101010102\n",
      "0.11111111111111112\n",
      "0.12121212121212122\n",
      "0.13131313131313133\n",
      "0.14141414141414144\n",
      "0.15151515151515152\n",
      "0.16161616161616163\n",
      "0.17171717171717174\n",
      "0.18181818181818182\n",
      "0.19191919191919193\n",
      "0.20202020202020204\n",
      "0.21212121212121213\n",
      "0.22222222222222224\n",
      "0.23232323232323235\n",
      "0.24242424242424243\n",
      "0.25252525252525254\n",
      "0.26262626262626265\n",
      "0.27272727272727276\n",
      "0.2828282828282829\n",
      "0.29292929292929293\n",
      "0.30303030303030304\n",
      "0.31313131313131315\n",
      "0.32323232323232326\n",
      "0.33333333333333337\n",
      "0.3434343434343435\n",
      "0.3535353535353536\n",
      "0.36363636363636365\n",
      "0.37373737373737376\n",
      "0.38383838383838387\n",
      "0.393939393939394\n",
      "0.4040404040404041\n",
      "0.4141414141414142\n",
      "0.42424242424242425\n",
      "0.43434343434343436\n",
      "0.4444444444444445\n",
      "0.4545454545454546\n",
      "0.4646464646464647\n",
      "0.4747474747474748\n",
      "0.48484848484848486\n",
      "0.494949494949495\n",
      "0.5050505050505051\n",
      "0.5151515151515152\n",
      "0.5252525252525253\n",
      "0.5353535353535354\n",
      "0.5454545454545455\n",
      "0.5555555555555556\n",
      "0.5656565656565657\n",
      "0.5757575757575758\n",
      "0.5858585858585859\n",
      "0.595959595959596\n",
      "0.6060606060606061\n",
      "0.6161616161616162\n",
      "0.6262626262626263\n",
      "0.6363636363636365\n",
      "0.6464646464646465\n",
      "0.6565656565656566\n",
      "0.6666666666666667\n",
      "0.6767676767676768\n",
      "0.686868686868687\n",
      "0.696969696969697\n",
      "0.7070707070707072\n",
      "0.7171717171717172\n",
      "0.7272727272727273\n",
      "0.7373737373737375\n",
      "0.7474747474747475\n",
      "0.7575757575757577\n",
      "0.7676767676767677\n",
      "0.7777777777777778\n",
      "0.787878787878788\n",
      "0.797979797979798\n",
      "0.8080808080808082\n",
      "0.8181818181818182\n",
      "0.8282828282828284\n",
      "0.8383838383838385\n",
      "0.8484848484848485\n",
      "0.8585858585858587\n",
      "0.8686868686868687\n",
      "0.8787878787878789\n",
      "0.888888888888889\n",
      "0.8989898989898991\n",
      "0.9090909090909092\n",
      "0.9191919191919192\n",
      "0.9292929292929294\n",
      "0.9393939393939394\n",
      "0.9494949494949496\n",
      "0.9595959595959597\n",
      "0.9696969696969697\n",
      "0.9797979797979799\n",
      "0.98989898989899\n",
      "1.0\n"
     ]
    }
   ],
   "source": [
    "DA_mm_at1000=[]\n",
    "myQRange=np.linspace(0,1,100)\n",
    "for Q in myQRange:\n",
    "    print(Q)\n",
    "    a=.05\n",
    "    Nturns=1000\n",
    "    Namplitude=20\n",
    "    g=-23\n",
    "    \n",
    "    def f(Q, phi0,a,g,Nturns,Namplitude):\n",
    "        aux=pd.DataFrame()\n",
    "        phi_rad=np.pi/180.*phi0\n",
    "\n",
    "        phi=2*np.pi*Q/2\n",
    "        g=g/2.\n",
    "        R=np.array([[np.cos(phi),np.sin(phi)],[-np.sin(phi),np.cos(phi)]])\n",
    "        R0=np.array([[np.cos(phi_rad),np.sin(phi_rad)],[-np.sin(phi_rad),np.cos(phi_rad)]])\n",
    "\n",
    "        for j in np.linspace(0,a,Namplitude): \n",
    "            X=[]\n",
    "            Amplitude=[]\n",
    "            A=R0 @ np.array([[j],[0]])\n",
    "            X.append(A)\n",
    "            Amplitude.append(np.sqrt(A[0]**2+A[1]**2)/2)\n",
    "            for i in range(Nturns):\n",
    "                X1=R @ (X[i]+g*np.array([[0],[X[i][0]*X[i][0]]]))\n",
    "                X.append(R @ (X1+g*np.array([[0],[X1[0]*X1[0]]])))\n",
    "                Amplitude.append(np.sqrt(X[i+1][0]**2+X[i+1][1]**2)/2)\n",
    "            aux=pd.concat([aux,pd.DataFrame(np.array(Amplitude),columns=[j])], axis=1, sort=False)\n",
    "        return aux\n",
    "    aux=f(Q, phi0,a,g,Nturns,Namplitude)\n",
    "    myMax=aux.max()\n",
    "    DA_mm_at1000.append(max(myMax[myMax<.05].index))"
   ]
  },
  {
   "cell_type": "code",
   "execution_count": 306,
   "metadata": {},
   "outputs": [
    {
     "data": {
      "text/plain": [
       "[<matplotlib.lines.Line2D at 0x7fd29a349860>]"
      ]
     },
     "execution_count": 306,
     "metadata": {},
     "output_type": "execute_result"
    },
    {
     "data": {
      "image/png": "[encoded data removed]",
      "text/plain": [
       "<Figure size 432x288 with 1 Axes>"
      ]
     },
     "metadata": {
      "image/png": {
       "height": 250,
       "width": 380
      },
      "needs_background": "light"
     },
     "output_type": "display_data"
    }
   ],
   "source": [
    "plt.plot(myQRange, DA_mm_at1000,'.-')"
   ]
  },
  {
   "cell_type": "code",
   "execution_count": 307,
   "metadata": {},
   "outputs": [
    {
     "name": "stdout",
     "output_type": "stream",
     "text": [
      "0.0\n",
      "0.010101010101010102\n",
      "0.020202020202020204\n",
      "0.030303030303030304\n",
      "0.04040404040404041\n",
      "0.05050505050505051\n",
      "0.06060606060606061\n",
      "0.07070707070707072\n",
      "0.08080808080808081\n",
      "0.09090909090909091\n",
      "0.10101010101010102\n",
      "0.11111111111111112\n",
      "0.12121212121212122\n",
      "0.13131313131313133\n",
      "0.14141414141414144\n",
      "0.15151515151515152\n",
      "0.16161616161616163\n",
      "0.17171717171717174\n",
      "0.18181818181818182\n",
      "0.19191919191919193\n",
      "0.20202020202020204\n",
      "0.21212121212121213\n",
      "0.22222222222222224\n",
      "0.23232323232323235\n",
      "0.24242424242424243\n",
      "0.25252525252525254\n",
      "0.26262626262626265\n",
      "0.27272727272727276\n",
      "0.2828282828282829\n",
      "0.29292929292929293\n",
      "0.30303030303030304\n",
      "0.31313131313131315\n",
      "0.32323232323232326\n",
      "0.33333333333333337\n",
      "0.3434343434343435\n",
      "0.3535353535353536\n",
      "0.36363636363636365\n",
      "0.37373737373737376\n",
      "0.38383838383838387\n",
      "0.393939393939394\n",
      "0.4040404040404041\n",
      "0.4141414141414142\n",
      "0.42424242424242425\n",
      "0.43434343434343436\n",
      "0.4444444444444445\n",
      "0.4545454545454546\n",
      "0.4646464646464647\n",
      "0.4747474747474748\n",
      "0.48484848484848486\n",
      "0.494949494949495\n",
      "0.5050505050505051\n",
      "0.5151515151515152\n",
      "0.5252525252525253\n",
      "0.5353535353535354\n",
      "0.5454545454545455\n",
      "0.5555555555555556\n",
      "0.5656565656565657\n",
      "0.5757575757575758\n",
      "0.5858585858585859\n",
      "0.595959595959596\n",
      "0.6060606060606061\n",
      "0.6161616161616162\n",
      "0.6262626262626263\n",
      "0.6363636363636365\n",
      "0.6464646464646465\n",
      "0.6565656565656566\n",
      "0.6666666666666667\n",
      "0.6767676767676768\n",
      "0.686868686868687\n",
      "0.696969696969697\n",
      "0.7070707070707072\n",
      "0.7171717171717172\n",
      "0.7272727272727273\n",
      "0.7373737373737375\n",
      "0.7474747474747475\n",
      "0.7575757575757577\n",
      "0.7676767676767677\n",
      "0.7777777777777778\n",
      "0.787878787878788\n",
      "0.797979797979798\n",
      "0.8080808080808082\n",
      "0.8181818181818182\n",
      "0.8282828282828284\n",
      "0.8383838383838385\n",
      "0.8484848484848485\n",
      "0.8585858585858587\n",
      "0.8686868686868687\n",
      "0.8787878787878789\n",
      "0.888888888888889\n",
      "0.8989898989898991\n",
      "0.9090909090909092\n",
      "0.9191919191919192\n",
      "0.9292929292929294\n",
      "0.9393939393939394\n",
      "0.9494949494949496\n",
      "0.9595959595959597\n",
      "0.9696969696969697\n",
      "0.9797979797979799\n",
      "0.98989898989899\n",
      "1.0\n"
     ]
    }
   ],
   "source": [
    "DA_mm_at1000=[]\n",
    "myQRange=np.linspace(0,1,100)\n",
    "for Q in myQRange:\n",
    "    print(Q)\n",
    "    a=.05\n",
    "    Nturns=1000\n",
    "    Namplitude=20\n",
    "    g=-23\n",
    "    \n",
    "    def f(Q, phi0,a,g,Nturns,Namplitude):\n",
    "        aux=pd.DataFrame()\n",
    "        phi_rad=np.pi/180.*phi0\n",
    "\n",
    "        phi=2*np.pi*Q/3.\n",
    "        g=g/3.\n",
    "        R=np.array([[np.cos(phi),np.sin(phi)],[-np.sin(phi),np.cos(phi)]])\n",
    "        R0=np.array([[np.cos(phi_rad),np.sin(phi_rad)],[-np.sin(phi_rad),np.cos(phi_rad)]])\n",
    "\n",
    "        for j in np.linspace(0,a,Namplitude): \n",
    "            X=[]\n",
    "            Amplitude=[]\n",
    "            A=R0 @ np.array([[j],[0]])\n",
    "            X.append(A)\n",
    "            Amplitude.append(np.sqrt(A[0]**2+A[1]**2)/2)\n",
    "            for i in range(Nturns):\n",
    "                X1=R @ (X[i]+g*np.array([[0],[X[i][0]*X[i][0]]]))\n",
    "                X2=R @ (X1+g*np.array([[0],[X1[0]*X1[0]]]))\n",
    "                X.append(R @ (X2+g*np.array([[0],[X2[0]*X2[0]]])))\n",
    "                Amplitude.append(np.sqrt(X[i+1][0]**2+X[i+1][1]**2)/2)\n",
    "            aux=pd.concat([aux,pd.DataFrame(np.array(Amplitude),columns=[j])], axis=1, sort=False)\n",
    "        return aux\n",
    "    aux=f(Q, phi0,a,g,Nturns,Namplitude)\n",
    "    myMax=aux.max()\n",
    "    DA_mm_at1000.append(max(myMax[myMax<.05].index))"
   ]
  },
  {
   "cell_type": "code",
   "execution_count": 308,
   "metadata": {},
   "outputs": [
    {
     "data": {
      "text/plain": [
       "[<matplotlib.lines.Line2D at 0x7fd29a48e0b8>]"
      ]
     },
     "execution_count": 308,
     "metadata": {},
     "output_type": "execute_result"
    },
    {
     "data": {
      "image/png": "[encoded data removed]",
      "text/plain": [
       "<Figure size 432x288 with 1 Axes>"
      ]
     },
     "metadata": {
      "image/png": {
       "height": 250,
       "width": 380
      },
      "needs_background": "light"
     },
     "output_type": "display_data"
    }
   ],
   "source": [
    "plt.plot(myQRange, DA_mm_at1000,'.-')"
   ]
  },
  {
   "cell_type": "code",
   "execution_count": null,
   "metadata": {},
   "outputs": [],
   "source": []
  }
 ],
 "metadata": {
  "kernelspec": {
   "display_name": "Python 3 (ipykernel)",
   "language": "python",
   "name": "python3"
  },
  "language_info": {
   "codemirror_mode": {
    "name": "ipython",
    "version": 3
   },
   "file_extension": ".py",
   "mimetype": "text/x-python",
   "name": "python",
   "nbconvert_exporter": "python",
   "pygments_lexer": "ipython3",
   "version": "3.9.12"
  }
 },
 "nbformat": 4,
 "nbformat_minor": 2
}
