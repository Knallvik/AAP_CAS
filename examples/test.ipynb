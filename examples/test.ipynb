{
 "cells": [
  {
   "cell_type": "code",
   "execution_count": 1,
   "metadata": {},
   "outputs": [
    {
     "name": "stdout",
     "output_type": "stream",
     "text": [
      "\n",
      "  ++++++++++++++++++++++++++++++++++++++++++++\n",
      "  +     MAD-X 5.08.01  (64 bit, Darwin)      +\n",
      "  + Support: mad@cern.ch, http://cern.ch/mad +\n",
      "  + Release   date: 2022.02.25               +\n",
      "  + Execution date: 2022.11.05 17:19:24      +\n",
      "  ++++++++++++++++++++++++++++++++++++++++++++\n"
     ]
    }
   ],
   "source": [
    "# numpy: our main numerical package\n",
    "import numpy as np\n",
    "# matplotlib and seaborn: our plotting packages\n",
    "import matplotlib.pyplot as plt\n",
    "import seaborn as sns\n",
    "\n",
    "# widget for producing animations:\n",
    "from ipywidgets import interactive\n",
    "# Note: to produce animations you might need to configure your jupyter lab properly:\n",
    "# > pip install ipywidgets\n",
    "# > jupyter nbextension enable --py widgetsnbextension\n",
    "# > jupyter labextension install @jupyter-widgets/jupyterlab-manager\n",
    "\n",
    "# linear algebra and optimisation algorithms\n",
    "from numpy.linalg import norm\n",
    "from scipy.optimize import minimize\n",
    "# some other useful package\n",
    "from copy import deepcopy\n",
    "\n",
    "# our optics package\n",
    "from cpymad.madx import Madx\n",
    "madx = Madx()\n",
    "\n",
    "import PyNAFF as pnf\n"
   ]
  },
  {
   "cell_type": "code",
   "execution_count": 2,
   "metadata": {},
   "outputs": [],
   "source": [
    "import numpy as np\n",
    "\n",
    "# Matrix definition\n",
    "Omega=np.array([[0, 1],[-1,0]])\n",
    "M=np.array([[1, 0],[1,1]])"
   ]
  },
  {
   "cell_type": "code",
   "execution_count": 3,
   "metadata": {},
   "outputs": [
    {
     "data": {
      "text/plain": [
       "array([[0, 0],\n",
       "       [0, 0]])"
      ]
     },
     "execution_count": 3,
     "metadata": {},
     "output_type": "execute_result"
    }
   ],
   "source": [
    "# Sum and multiplication of matrices\n",
    "Omega - M.T @ Omega @ M\n",
    "# M.T means the \"traspose of M\"."
   ]
  },
  {
   "cell_type": "code",
   "execution_count": 4,
   "metadata": {},
   "outputs": [],
   "source": [
    "# Function definition\n",
    "def Q(f=1):\n",
    "    return np.array([[1, 0],[-1/f,1]])"
   ]
  },
  {
   "cell_type": "code",
   "execution_count": 5,
   "metadata": {},
   "outputs": [
    {
     "data": {
      "text/plain": [
       "(array([1., 1.]),\n",
       " array([[ 0.00000000e+00,  2.22044605e-16],\n",
       "        [ 1.00000000e+00, -1.00000000e+00]]))"
      ]
     },
     "execution_count": 5,
     "metadata": {},
     "output_type": "execute_result"
    }
   ],
   "source": [
    "# Eigenvalues and eigenvector\n",
    "np.linalg.eig(M)"
   ]
  },
  {
   "cell_type": "code",
   "execution_count": 6,
   "metadata": {},
   "outputs": [
    {
     "name": "stdout",
     "output_type": "stream",
     "text": [
      "Entire array: [0.86776164 0.79976666 0.01179491 0.88969597 0.26895856 0.03845276\n",
      " 0.14756495 0.22588723 0.16001782 0.78705778]\n",
      "********************************************************************************\n",
      "Specific element (5th): 0.03845275603945253\n",
      "Last element: 0.7870577847328021\n",
      "Specific elements (from 3rd to 7th): [0.88969597 0.26895856 0.03845276 0.14756495]\n",
      "First 5 elements array: [0.86776164 0.79976666 0.01179491 0.88969597 0.26895856]\n",
      "Last 5 elements array: [0.03845276 0.14756495 0.22588723 0.16001782 0.78705778]\n"
     ]
    }
   ],
   "source": [
    "import numpy as np\n",
    "\n",
    "# Create an array\n",
    "array1d = np.random.uniform(size=10)\n",
    "# Print selected elements\n",
    "print(f'Entire array: {array1d}\\n{80*\"*\"}')\n",
    "print(f'Specific element (5th): {array1d[5]}')\n",
    "print(f'Last element: {array1d[-1]}')\n",
    "print(f'Specific elements (from 3rd to 7th): {array1d[3:7]}')\n",
    "print(f'First 5 elements array: {array1d[:5]}')\n",
    "print(f'Last 5 elements array: {array1d[5:]}')"
   ]
  },
  {
   "cell_type": "code",
   "execution_count": 7,
   "metadata": {},
   "outputs": [
    {
     "name": "stdout",
     "output_type": "stream",
     "text": [
      "Entire array: [0.80950984 0.8942758  0.07084385 0.61410003 0.88726515 0.69582078\n",
      " 0.45105235 0.50736463 0.71857575 0.47220864]\n",
      "\n",
      "Each element muliplied by 5: [4.04754922 4.47137898 0.35421925 3.07050017 4.43632573 3.47910392\n",
      " 2.25526173 2.53682314 3.59287876 2.36104318]\n",
      "\n",
      "Each element squared: [0.65530619 0.7997292  0.00501885 0.37711885 0.78723944 0.48416656\n",
      " 0.20344822 0.25741887 0.51635111 0.222981  ]\n",
      "\n",
      "Square root of each element: [0.89972765 0.94566156 0.26616508 0.78364535 0.94194753 0.83415873\n",
      " 0.67160431 0.71229532 0.84768848 0.68717438]\n",
      "\n"
     ]
    }
   ],
   "source": [
    "import numpy as np\n",
    "\n",
    "# Create an array\n",
    "array1d = np.random.uniform(size=10)\n",
    "\n",
    "print(\"Entire array: \" + str(array1d) + \"\\n\")\n",
    "print(\"Each element muliplied by 5: \" + str(5 * array1d) + \"\\n\")\n",
    "print(\"Each element squared: \" + str(array1d**2) + \"\\n\")\n",
    "print(\"Square root of each element: \" + str(np.sqrt(array1d)) + \"\\n\")"
   ]
  },
  {
   "cell_type": "code",
   "execution_count": 8,
   "metadata": {},
   "outputs": [
    {
     "data": {
      "text/plain": [
       "(array([1., 1.]),\n",
       " array([[ 0.00000000e+00,  2.22044605e-16],\n",
       "        [ 1.00000000e+00, -1.00000000e+00]]))"
      ]
     },
     "execution_count": 8,
     "metadata": {},
     "output_type": "execute_result"
    }
   ],
   "source": [
    "import numpy as np\n",
    "import pandas as pd\n",
    "from matplotlib import pyplot as plt\n",
    "import seaborn as sns\n",
    "\n",
    "# Matrix definition\n",
    "Omega=np.array([[0, 1],[-1,0]])\n",
    "M=np.array([[1, 0],[1,1]])\n",
    "\n",
    "# Sum and multiplication of matrices\n",
    "Omega - M.T @ Omega @ M\n",
    "# M.T means the \"traspose of M\".\n",
    "\n",
    "# Function definition\n",
    "def Q(f=1):\n",
    "    return np.array([[1, 0],[-1/f,1]])\n",
    "\n",
    "#Eigenvalues and eigenvectors\n",
    "np.linalg.eig(M)"
   ]
  },
  {
   "cell_type": "code",
   "execution_count": 9,
   "metadata": {},
   "outputs": [
    {
     "data": {
      "text/plain": [
       "Text(0.5, 1.0, 'My title')"
      ]
     },
     "execution_count": 9,
     "metadata": {},
     "output_type": "execute_result"
    },
    {
     "data": {
      "image/png": "[encoded data removed]",
      "text/plain": [
       "<Figure size 432x288 with 1 Axes>"
      ]
     },
     "metadata": {
      "needs_background": "light"
     },
     "output_type": "display_data"
    }
   ],
   "source": [
    "# check a simple plot\n",
    "%matplotlib inline\n",
    "\n",
    "plt.plot([0,10],[0,10],'ob-')\n",
    "plt.xlabel('My x-label [arb. units]')\n",
    "plt.ylabel('My y-label [arb. units]')\n",
    "plt.title('My title')"
   ]
  },
  {
   "cell_type": "code",
   "execution_count": 10,
   "metadata": {},
   "outputs": [
    {
     "data": {
      "text/plain": [
       "<seaborn.axisgrid.JointGrid at 0x7fa84ee93640>"
      ]
     },
     "execution_count": 10,
     "metadata": {},
     "output_type": "execute_result"
    },
    {
     "data": {
      "image/png": "[encoded data removed]",
      "text/plain": [
       "<Figure size 432x432 with 3 Axes>"
      ]
     },
     "metadata": {},
     "output_type": "display_data"
    }
   ],
   "source": [
    "sns.set(style=\"ticks\")\n",
    "rs = np.random.RandomState(11)\n",
    "x = rs.normal(size=1000)\n",
    "y = rs.normal(size=1000)\n",
    "sns.jointplot(x=x, y=y, kind=\"hex\")"
   ]
  },
  {
   "cell_type": "code",
   "execution_count": 11,
   "metadata": {},
   "outputs": [
    {
     "data": {
      "text/html": [
       "<div>\n",
       "<style scoped>\n",
       "    .dataframe tbody tr th:only-of-type {\n",
       "        vertical-align: middle;\n",
       "    }\n",
       "\n",
       "    .dataframe tbody tr th {\n",
       "        vertical-align: top;\n",
       "    }\n",
       "\n",
       "    .dataframe thead th {\n",
       "        text-align: right;\n",
       "    }\n",
       "</style>\n",
       "<table border=\"1\" class=\"dataframe\">\n",
       "  <thead>\n",
       "    <tr style=\"text-align: right;\">\n",
       "      <th></th>\n",
       "      <th>LOCATION</th>\n",
       "      <th>INDICATOR</th>\n",
       "      <th>SUBJECT</th>\n",
       "      <th>MEASURE</th>\n",
       "      <th>FREQUENCY</th>\n",
       "      <th>TIME</th>\n",
       "      <th>Value</th>\n",
       "      <th>Flag Codes</th>\n",
       "    </tr>\n",
       "  </thead>\n",
       "  <tbody>\n",
       "    <tr>\n",
       "      <th>0</th>\n",
       "      <td>AUS</td>\n",
       "      <td>GDP</td>\n",
       "      <td>TOT</td>\n",
       "      <td>MLN_USD</td>\n",
       "      <td>A</td>\n",
       "      <td>1960</td>\n",
       "      <td>25073.260</td>\n",
       "      <td>NaN</td>\n",
       "    </tr>\n",
       "    <tr>\n",
       "      <th>1</th>\n",
       "      <td>AUS</td>\n",
       "      <td>GDP</td>\n",
       "      <td>TOT</td>\n",
       "      <td>MLN_USD</td>\n",
       "      <td>A</td>\n",
       "      <td>1961</td>\n",
       "      <td>25364.881</td>\n",
       "      <td>NaN</td>\n",
       "    </tr>\n",
       "    <tr>\n",
       "      <th>2</th>\n",
       "      <td>AUS</td>\n",
       "      <td>GDP</td>\n",
       "      <td>TOT</td>\n",
       "      <td>MLN_USD</td>\n",
       "      <td>A</td>\n",
       "      <td>1962</td>\n",
       "      <td>27955.357</td>\n",
       "      <td>NaN</td>\n",
       "    </tr>\n",
       "    <tr>\n",
       "      <th>3</th>\n",
       "      <td>AUS</td>\n",
       "      <td>GDP</td>\n",
       "      <td>TOT</td>\n",
       "      <td>MLN_USD</td>\n",
       "      <td>A</td>\n",
       "      <td>1963</td>\n",
       "      <td>30432.979</td>\n",
       "      <td>NaN</td>\n",
       "    </tr>\n",
       "    <tr>\n",
       "      <th>4</th>\n",
       "      <td>AUS</td>\n",
       "      <td>GDP</td>\n",
       "      <td>TOT</td>\n",
       "      <td>MLN_USD</td>\n",
       "      <td>A</td>\n",
       "      <td>1964</td>\n",
       "      <td>32745.289</td>\n",
       "      <td>NaN</td>\n",
       "    </tr>\n",
       "  </tbody>\n",
       "</table>\n",
       "</div>"
      ],
      "text/plain": [
       "  LOCATION INDICATOR SUBJECT  MEASURE FREQUENCY  TIME      Value Flag Codes\n",
       "0      AUS       GDP     TOT  MLN_USD         A  1960  25073.260        NaN\n",
       "1      AUS       GDP     TOT  MLN_USD         A  1961  25364.881        NaN\n",
       "2      AUS       GDP     TOT  MLN_USD         A  1962  27955.357        NaN\n",
       "3      AUS       GDP     TOT  MLN_USD         A  1963  30432.979        NaN\n",
       "4      AUS       GDP     TOT  MLN_USD         A  1964  32745.289        NaN"
      ]
     },
     "execution_count": 11,
     "metadata": {},
     "output_type": "execute_result"
    }
   ],
   "source": [
    "# a simple pandas dataframe (GDP world statistics)\n",
    "myDF=pd.read_csv('https://stats.oecd.org/sdmx-json/data/DP_LIVE/.GDP.../OECD?contentType=csv&detail=code&separator=comma&csv-lang=en')\n",
    "myDF[(myDF['TIME']==2018) & (myDF['MEASURE']=='MLN_USD')]\n",
    "myDF.head()"
   ]
  },
  {
   "cell_type": "code",
   "execution_count": 12,
   "metadata": {},
   "outputs": [
    {
     "data": {
      "application/vnd.jupyter.widget-view+json": {
       "model_id": "a3edfd6d6cbb4c1b89fefc53e38da175",
       "version_major": 2,
       "version_minor": 0
      },
      "text/plain": [
       "interactive(children=(FloatSlider(value=0.0, description='f', max=1.0), Output(layout=Layout(height='300px')))…"
      ]
     },
     "metadata": {},
     "output_type": "display_data"
    }
   ],
   "source": [
    "# to have the animation you need to configure properly your jupyter lab\n",
    "# From https://towardsdatascience.com/interactive-controls-for-jupyter-notebooks-f5c94829aee6\n",
    "\n",
    "# > pip install ipywidgets\n",
    "# > jupyter nbextension enable --py widgetsnbextension\n",
    "# > jupyter labextension install @jupyter-widgets/jupyterlab-manager\n",
    "\n",
    "# Possibly you need also nodejs \n",
    "# https://anaconda.org/conda-forge/nodejs\n",
    "# > conda install -c conda-forge nodejs \n",
    "\n",
    "import numpy as np\n",
    "import matplotlib.pyplot as plt\n",
    "from ipywidgets import interactive\n",
    "\n",
    "t = np.linspace(0,10,1000)\n",
    "def plotIt(f):\n",
    "    plt.plot(t, np.sin(2*np.pi*f*t))\n",
    "    plt.grid(True)\n",
    "    \n",
    "interactive_plot = interactive(plotIt,f=(0,1,.1),continuous_update=True)\n",
    "output = interactive_plot.children[-1]\n",
    "output.layout.height = '300px'\n",
    "interactive_plot"
   ]
  },
  {
   "cell_type": "code",
   "execution_count": 38,
   "metadata": {},
   "outputs": [
    {
     "data": {
      "text/plain": [
       "0.12344998270771194"
      ]
     },
     "execution_count": 38,
     "metadata": {},
     "output_type": "execute_result"
    }
   ],
   "source": [
    "t = np.linspace(1, 3000, num=3000, endpoint=True)\n",
    "Q = 0.12345\n",
    "signal = np.sin(2.0*np.pi*Q*t)\n",
    "pnf.naff(signal, 200, 1, 0 , False, window=1)\n",
    "# outputs an array of arrays for each frequency. Each sub-array includes:\n",
    "# [order of harmonic, frequency, Amplitude, Re{Amplitude}, Im{Amplitude]\n",
    "\n",
    "# My frequency is simply \n",
    "pnf.naff(signal, 200, 1, 0 , False)[0][1]"
   ]
  },
  {
   "cell_type": "code",
   "execution_count": null,
   "metadata": {},
   "outputs": [],
   "source": []
  }
 ],
 "metadata": {
  "kernelspec": {
   "display_name": "Python 3 (ipykernel)",
   "language": "python",
   "name": "python3"
  },
  "language_info": {
   "codemirror_mode": {
    "name": "ipython",
    "version": 3
   },
   "file_extension": ".py",
   "mimetype": "text/x-python",
   "name": "python",
   "nbconvert_exporter": "python",
   "pygments_lexer": "ipython3",
   "version": "3.9.12"
  },
  "vscode": {
   "interpreter": {
    "hash": "9442522243202b4067e6660a0d1fc54594be7bec28e92878ed764986224dbfdf"
   }
  }
 },
 "nbformat": 4,
 "nbformat_minor": 4
}
