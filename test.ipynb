{
 "cells": [
  {
   "cell_type": "code",
   "execution_count": null,
   "metadata": {},
   "outputs": [],
   "source": []
  },
  {
   "cell_type": "code",
   "execution_count": 1,
   "metadata": {},
   "outputs": [
    {
     "data": {
      "text/plain": [
       "array([[-3.10601663e+00,  5.22474317e+00,  0.00000000e+00,\n",
       "         0.00000000e+00,  0.00000000e+00,  0.00000000e+00],\n",
       "       [-1.65239137e+00,  2.45759165e+00,  0.00000000e+00,\n",
       "         0.00000000e+00,  0.00000000e+00,  0.00000000e+00],\n",
       "       [ 0.00000000e+00,  0.00000000e+00,  8.05200273e-01,\n",
       "         1.31352626e+00,  0.00000000e+00,  0.00000000e+00],\n",
       "       [ 0.00000000e+00,  0.00000000e+00, -1.65239137e+00,\n",
       "        -1.45362526e+00,  0.00000000e+00,  0.00000000e+00],\n",
       "       [ 0.00000000e+00,  0.00000000e+00,  0.00000000e+00,\n",
       "         0.00000000e+00,  1.00000000e+00, -2.30686723e-17],\n",
       "       [ 0.00000000e+00,  0.00000000e+00,  0.00000000e+00,\n",
       "         0.00000000e+00,  7.28800134e-08,  1.00000000e+00]])"
      ]
     },
     "execution_count": 1,
     "metadata": {},
     "output_type": "execute_result"
    }
   ],
   "source": [
    "import xtrack as xt\n",
    "# Create an environment\n",
    "env = xt.Environment()\n",
    "\n",
    "# Define a variable in the environment\n",
    "env['k1'] = 1\n",
    "\n",
    "# Define the components of the lattice\n",
    "my_components = [\n",
    "    # a marker at the beginning of the lattice\n",
    "    env.new('start', xt.Marker), \n",
    "    # a quadrupole of length of 1 [m] and k1 equal to 1 [1/m^2]\n",
    "    env.new('qf', xt.Quadrupole, length=1, k1='k1',k1s=0.0), \n",
    "    # a drift of length of 1 [m]\n",
    "    env.new('drift_1',  xt.Drift, length=1),\n",
    "    env.new('qd', xt.Quadrupole, length=1, k1='-k1'),\n",
    "    env.new('drift_2',  xt.Drift, length=1),\n",
    "    # a marker at the end of the lattice\n",
    "    env.new('end', xt.Marker), \n",
    "]\n",
    "\n",
    "# Build the simplest stable lattice\n",
    "line = env.new_line(components=my_components)\n",
    "\n",
    "# Define reference particle\n",
    "line.particle_ref = xt.Particles(p0c=7e12, mass0=xt.PROTON_MASS_EV)\n",
    "\n",
    "my_twiss = line.twiss4d()\n",
    "my_twiss.get_R_matrix('start','end')"
   ]
  },
  {
   "cell_type": "code",
   "execution_count": null,
   "metadata": {},
   "outputs": [],
   "source": []
  }
 ],
 "metadata": {
  "kernelspec": {
   "display_name": "base",
   "language": "python",
   "name": "python3"
  },
  "language_info": {
   "codemirror_mode": {
    "name": "ipython",
    "version": 3
   },
   "file_extension": ".py",
   "mimetype": "text/x-python",
   "name": "python",
   "nbconvert_exporter": "python",
   "pygments_lexer": "ipython3",
   "version": "3.12.7"
  }
 },
 "nbformat": 4,
 "nbformat_minor": 2
}
